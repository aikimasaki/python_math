{
 "cells": [
  {
   "cell_type": "code",
   "execution_count": 3,
   "metadata": {
    "collapsed": true
   },
   "outputs": [],
   "source": [
    "shortlist = [1, 2, 3]"
   ]
  },
  {
   "cell_type": "code",
   "execution_count": 4,
   "metadata": {
    "collapsed": false,
    "scrolled": true
   },
   "outputs": [
    {
     "data": {
      "text/plain": [
       "6"
      ]
     },
     "execution_count": 4,
     "metadata": {},
     "output_type": "execute_result"
    }
   ],
   "source": [
    "# 合計\n",
    "sum(shortlist)"
   ]
  },
  {
   "cell_type": "code",
   "execution_count": 5,
   "metadata": {
    "collapsed": false
   },
   "outputs": [
    {
     "data": {
      "text/plain": [
       "3"
      ]
     },
     "execution_count": 5,
     "metadata": {},
     "output_type": "execute_result"
    }
   ],
   "source": [
    "# 要素数\n",
    "len(shortlist)"
   ]
  },
  {
   "cell_type": "code",
   "execution_count": 6,
   "metadata": {
    "collapsed": true
   },
   "outputs": [],
   "source": [
    "# 平均の計算\n",
    "def calculate_mean(numbers):\n",
    "    s = sum(numbers)\n",
    "    N = len(numbers)\n",
    "    mean = s / N\n",
    "    \n",
    "    return mean"
   ]
  },
  {
   "cell_type": "code",
   "execution_count": 7,
   "metadata": {
    "collapsed": false
   },
   "outputs": [
    {
     "name": "stdout",
     "output_type": "stream",
     "text": [
      "Mean donation over the last 12 days is 477.75\n"
     ]
    }
   ],
   "source": [
    "if __name__=='__main__':\n",
    "    donations = [100,60,70,900,100,200,500,500,503,600,1000,1200]\n",
    "    mean = calculate_mean(donations)\n",
    "    N = len(donations)\n",
    "    print('Mean donation over the last {0} days is {1}'.format(N, mean))"
   ]
  },
  {
   "cell_type": "code",
   "execution_count": 10,
   "metadata": {
    "collapsed": true
   },
   "outputs": [],
   "source": [
    "samplelist = [4, 1, 3]"
   ]
  },
  {
   "cell_type": "code",
   "execution_count": 11,
   "metadata": {
    "collapsed": false
   },
   "outputs": [
    {
     "data": {
      "text/plain": [
       "[4, 1, 3]"
      ]
     },
     "execution_count": 11,
     "metadata": {},
     "output_type": "execute_result"
    }
   ],
   "source": [
    "samplelist"
   ]
  },
  {
   "cell_type": "code",
   "execution_count": 12,
   "metadata": {
    "collapsed": true
   },
   "outputs": [],
   "source": [
    "# ソート\n",
    "samplelist.sort()"
   ]
  },
  {
   "cell_type": "code",
   "execution_count": 13,
   "metadata": {
    "collapsed": false
   },
   "outputs": [
    {
     "data": {
      "text/plain": [
       "[1, 3, 4]"
      ]
     },
     "execution_count": 13,
     "metadata": {},
     "output_type": "execute_result"
    }
   ],
   "source": [
    "samplelist"
   ]
  },
  {
   "cell_type": "code",
   "execution_count": 14,
   "metadata": {
    "collapsed": true
   },
   "outputs": [],
   "source": [
    "# 中央値の計算\n",
    "def calculate_median(numbers):\n",
    "    N = len(numbers)\n",
    "    numbers.sort()\n",
    "    \n",
    "    # 中央値を求める\n",
    "    if N % 2 == 0: # 偶数個なら、中央２つの平均\n",
    "        m1 = N / 2\n",
    "        m2 = (N/2) + 1\n",
    "        m1 = int(m1) - 1\n",
    "        m2 = int(m2) - 1\n",
    "        median = (numbers[m1] + numbers[m2]) / 2\n",
    "    else:\n",
    "        m = (N+1) / 2\n",
    "        m = int(m) - 1\n",
    "        median = numbers[m]\n",
    "    \n",
    "    return median"
   ]
  },
  {
   "cell_type": "code",
   "execution_count": 15,
   "metadata": {
    "collapsed": false
   },
   "outputs": [
    {
     "name": "stdout",
     "output_type": "stream",
     "text": [
      "Median donation over the last 12 days is 500.0\n"
     ]
    }
   ],
   "source": [
    "if __name__=='__main__':\n",
    "    donations = [100,60,70,900,100,200,500,500,503,600,1000,1200]\n",
    "    median = calculate_median(donations)\n",
    "    N = len(donations)\n",
    "    print('Median donation over the last {0} days is {1}'.format(N, median))"
   ]
  },
  {
   "cell_type": "code",
   "execution_count": 19,
   "metadata": {
    "collapsed": true
   },
   "outputs": [],
   "source": [
    "simplelist = [4,2,1,3,4]"
   ]
  },
  {
   "cell_type": "code",
   "execution_count": 20,
   "metadata": {
    "collapsed": true
   },
   "outputs": [],
   "source": [
    "from collections import Counter"
   ]
  },
  {
   "cell_type": "code",
   "execution_count": 22,
   "metadata": {
    "collapsed": false
   },
   "outputs": [
    {
     "data": {
      "text/plain": [
       "[(4, 2), (1, 1), (2, 1), (3, 1)]"
      ]
     },
     "execution_count": 22,
     "metadata": {},
     "output_type": "execute_result"
    }
   ],
   "source": [
    "# 最頻値を求める\n",
    "c = Counter(simplelist)\n",
    "c.most_common()"
   ]
  },
  {
   "cell_type": "code",
   "execution_count": 23,
   "metadata": {
    "collapsed": false
   },
   "outputs": [
    {
     "data": {
      "text/plain": [
       "[(4, 2)]"
      ]
     },
     "execution_count": 23,
     "metadata": {},
     "output_type": "execute_result"
    }
   ],
   "source": [
    "c.most_common(1)"
   ]
  },
  {
   "cell_type": "code",
   "execution_count": 24,
   "metadata": {
    "collapsed": false
   },
   "outputs": [
    {
     "data": {
      "text/plain": [
       "[(4, 2), (1, 1)]"
      ]
     },
     "execution_count": 24,
     "metadata": {},
     "output_type": "execute_result"
    }
   ],
   "source": [
    "c.most_common(2)"
   ]
  },
  {
   "cell_type": "code",
   "execution_count": 26,
   "metadata": {
    "collapsed": false
   },
   "outputs": [],
   "source": [
    "mode = c.most_common(2)"
   ]
  },
  {
   "cell_type": "code",
   "execution_count": 27,
   "metadata": {
    "collapsed": false
   },
   "outputs": [
    {
     "data": {
      "text/plain": [
       "(1, 1)"
      ]
     },
     "execution_count": 27,
     "metadata": {},
     "output_type": "execute_result"
    }
   ],
   "source": [
    "mode[1]"
   ]
  },
  {
   "cell_type": "code",
   "execution_count": 29,
   "metadata": {
    "collapsed": false
   },
   "outputs": [
    {
     "data": {
      "text/plain": [
       "(4, 2)"
      ]
     },
     "execution_count": 29,
     "metadata": {},
     "output_type": "execute_result"
    }
   ],
   "source": [
    "mode[0]"
   ]
  },
  {
   "cell_type": "code",
   "execution_count": 30,
   "metadata": {
    "collapsed": false
   },
   "outputs": [
    {
     "data": {
      "text/plain": [
       "4"
      ]
     },
     "execution_count": 30,
     "metadata": {},
     "output_type": "execute_result"
    }
   ],
   "source": [
    "mode[0][0] #最頻値"
   ]
  },
  {
   "cell_type": "code",
   "execution_count": 32,
   "metadata": {
    "collapsed": false
   },
   "outputs": [],
   "source": [
    "# 最頻値を計算する\n",
    "def calculate_mode(numbers):\n",
    "    c = Counter(numbers)\n",
    "    mode = c.most_common(1)\n",
    "    return mode[0][0]"
   ]
  },
  {
   "cell_type": "code",
   "execution_count": 33,
   "metadata": {
    "collapsed": false
   },
   "outputs": [
    {
     "name": "stdout",
     "output_type": "stream",
     "text": [
      "The mode of the list of numbers is: 9\n"
     ]
    }
   ],
   "source": [
    "if __name__=='__main__':\n",
    "    scores = [7,8,9,2,10,9,9,9,9,4,5,6,1,5,6,7,8,6,1,10]\n",
    "    mode = calculate_mode(scores)\n",
    "    print('The mode of the list of numbers is: {0}'.format(mode))"
   ]
  },
  {
   "cell_type": "code",
   "execution_count": 40,
   "metadata": {
    "collapsed": true
   },
   "outputs": [],
   "source": [
    "# リストに最頻値が複数ある場合\n",
    "def calculate_mode(numbers):\n",
    "    c = Counter(numbers)\n",
    "    numbers_freq = c.most_common()\n",
    "    max_count = numbers_freq[0][1]\n",
    "    modes = []\n",
    "    for num in numbers_freq:\n",
    "        if num[1] == max_count:\n",
    "            modes.append(num[0])\n",
    "    return modes"
   ]
  },
  {
   "cell_type": "code",
   "execution_count": 41,
   "metadata": {
    "collapsed": false
   },
   "outputs": [
    {
     "name": "stdout",
     "output_type": "stream",
     "text": [
      "The mode(s) of the list of numbers are:\n",
      "4\n",
      "5\n"
     ]
    }
   ],
   "source": [
    "if __name__=='__main__':\n",
    "    scores = [5,5,5,4,4,4,9,1,3]\n",
    "    modes = calculate_mode(scores)\n",
    "    print('The mode(s) of the list of numbers are:')\n",
    "    for mode in modes:\n",
    "        print(mode)"
   ]
  },
  {
   "cell_type": "code",
   "execution_count": 44,
   "metadata": {
    "collapsed": false
   },
   "outputs": [],
   "source": [
    "# リストの度数分布表\n",
    "def frequency_table(numbers):\n",
    "    table = Counter(numbers)\n",
    "    print('Number\\tFrequency')\n",
    "    for number in table.most_common():\n",
    "        print('{0}\\t{1}'.format(number[0], number[1]))"
   ]
  },
  {
   "cell_type": "code",
   "execution_count": 45,
   "metadata": {
    "collapsed": false
   },
   "outputs": [
    {
     "name": "stdout",
     "output_type": "stream",
     "text": [
      "Number\tFrequency\n",
      "9\t5\n",
      "6\t3\n",
      "1\t2\n",
      "5\t2\n",
      "7\t2\n",
      "8\t2\n",
      "10\t2\n",
      "2\t1\n",
      "4\t1\n"
     ]
    }
   ],
   "source": [
    "if __name__=='__main__':\n",
    "    scores = [7,8,9,2,10,9,9,9,9,4,5,6,1,5,6,7,8,6,1,10]\n",
    "    frequency_table(scores)"
   ]
  },
  {
   "cell_type": "code",
   "execution_count": 53,
   "metadata": {
    "collapsed": true
   },
   "outputs": [],
   "source": [
    "# 数の順に表示するよう修正\n",
    "def frequency_table(numbers):\n",
    "    table = Counter(numbers)\n",
    "    numbers_freq = table.most_common() #最頻値をnumbers_freqに格納\n",
    "    numbers_freq.sort() #ソートする\n",
    "    print('Number\\tFrequency')\n",
    "    for number in numbers_freq:\n",
    "        print('{0}\\t{1}'.format(number[0], number[1]))"
   ]
  },
  {
   "cell_type": "code",
   "execution_count": 54,
   "metadata": {
    "collapsed": false
   },
   "outputs": [
    {
     "name": "stdout",
     "output_type": "stream",
     "text": [
      "Number\tFrequency\n",
      "1\t2\n",
      "2\t1\n",
      "4\t1\n",
      "5\t2\n",
      "6\t3\n",
      "7\t2\n",
      "8\t2\n",
      "9\t5\n",
      "10\t2\n"
     ]
    }
   ],
   "source": [
    "if __name__=='__main__':\n",
    "    scores = [7,8,9,2,10,9,9,9,9,4,5,6,1,5,6,7,8,6,1,10]\n",
    "    frequency_table(scores)"
   ]
  },
  {
   "cell_type": "code",
   "execution_count": 56,
   "metadata": {
    "collapsed": false
   },
   "outputs": [],
   "source": [
    "# リストの最小値、最大値、範囲を求める\n",
    "def find_range(numbers):\n",
    "    lowest = min(numbers)\n",
    "    highest = max(numbers)\n",
    "    r = highest-lowest\n",
    "    \n",
    "    return lowest, highest, r"
   ]
  },
  {
   "cell_type": "code",
   "execution_count": 57,
   "metadata": {
    "collapsed": false
   },
   "outputs": [
    {
     "name": "stdout",
     "output_type": "stream",
     "text": [
      "Lowest: 60 Highest: 1200 Range: 1140\n"
     ]
    }
   ],
   "source": [
    "if __name__=='__main__':\n",
    "    donations = [100,60,70,900,100,200,500,500,503,600,1000,1200]\n",
    "    lowest, highest, r = find_range(donations)\n",
    "    print('Lowest: {0} Highest: {1} Range: {2}'.format(lowest, highest, r))"
   ]
  },
  {
   "cell_type": "code",
   "execution_count": 58,
   "metadata": {
    "collapsed": true
   },
   "outputs": [],
   "source": [
    "# 平均を求める\n",
    "def calculate_mean(numbers):\n",
    "    s = sum(numbers)\n",
    "    N = len(numbers)\n",
    "    mean = s / N\n",
    "    return mean"
   ]
  },
  {
   "cell_type": "code",
   "execution_count": 59,
   "metadata": {
    "collapsed": true
   },
   "outputs": [],
   "source": [
    "# Σ(値-平均)\n",
    "def find_differences(numbers):\n",
    "    mean = calculate_mean(numbers)\n",
    "    diff = []\n",
    "    \n",
    "    for num in numbers:\n",
    "        diff.append(num - mean)\n",
    "    return diff"
   ]
  },
  {
   "cell_type": "code",
   "execution_count": 60,
   "metadata": {
    "collapsed": true
   },
   "outputs": [],
   "source": [
    "# variance = (find_differences ** 2) / len(numbers)\n",
    "def calculate_variance(numbers):\n",
    "    diff = find_differences(numbers)\n",
    "    squared_diff = []\n",
    "    for d in diff:\n",
    "        squared_diff.append(d**2)\n",
    "    sum_squared_diff = sum(squared_diff)\n",
    "    variance = sum_squared_diff / len(numbers)\n",
    "    return variance"
   ]
  },
  {
   "cell_type": "code",
   "execution_count": 61,
   "metadata": {
    "collapsed": false
   },
   "outputs": [
    {
     "name": "stdout",
     "output_type": "stream",
     "text": [
      "The variance of the list of numbers is 141047.35416666666\n",
      "The standard deviation of the list of numbers is 375.5627166887931\n"
     ]
    }
   ],
   "source": [
    "if __name__=='__main__':\n",
    "    donations = [100,60,70,900,100,200,500,500,503,600,1000,1200]\n",
    "    variance = calculate_variance(donations)\n",
    "    print('The variance of the list of numbers is {0}'.format(variance))\n",
    "    std = variance**0.5\n",
    "    #標準偏差\n",
    "    print('The standard deviation of the list of numbers is {0}'.format(std))"
   ]
  },
  {
   "cell_type": "code",
   "execution_count": 63,
   "metadata": {
    "collapsed": false
   },
   "outputs": [],
   "source": [
    "from matplotlib import pyplot as plt"
   ]
  },
  {
   "cell_type": "code",
   "execution_count": 145,
   "metadata": {
    "collapsed": false
   },
   "outputs": [
    {
     "data": {
      "text/plain": [
       "[<matplotlib.lines.Line2D at 0x10c4e3c18>,\n",
       " <matplotlib.lines.Line2D at 0x10c4e3dd8>]"
      ]
     },
     "execution_count": 145,
     "metadata": {},
     "output_type": "execute_result"
    },
    {
     "data": {
      "image/png": "[encoded data removed]",
      "text/plain": [
       "<matplotlib.figure.Figure at 0x10c74f898>"
      ]
     },
     "metadata": {},
     "output_type": "display_data"
    }
   ],
   "source": [
    "%matplotlib inline\n",
    "list1 = range(1,len(donations)+1,1)\n",
    "means = []\n",
    "for i in range(0,len(donations),1):\n",
    "    means.append(mean)\n",
    "plt.plot(list1, donations, list1, means)\n",
    "#plt.legend('Donations 1', 'Mean donation 1', 'Donations 2','Mean donation 2')\n",
    "#plt.legend(Donations 1)"
   ]
  },
  {
   "cell_type": "code",
   "execution_count": 115,
   "metadata": {
    "collapsed": false
   },
   "outputs": [
    {
     "data": {
      "text/plain": [
       "[100, 60, 70, 900, 100, 200, 500, 500, 503, 600, 1000, 1200]"
      ]
     },
     "execution_count": 115,
     "metadata": {},
     "output_type": "execute_result"
    }
   ],
   "source": [
    "donations"
   ]
  },
  {
   "cell_type": "code",
   "execution_count": 147,
   "metadata": {
    "collapsed": false
   },
   "outputs": [
    {
     "name": "stdout",
     "output_type": "stream",
     "text": [
      "1 4\n",
      "2 5\n",
      "3 6\n"
     ]
    }
   ],
   "source": [
    "simple_list1 = [1,2,3]\n",
    "simple_list2 = [4,5,6]\n",
    "for x,y in zip(simple_list1, simple_list2):\n",
    "    print(x,y)"
   ]
  },
  {
   "cell_type": "markdown",
   "metadata": {},
   "source": [
    "<img src=\"soukan.png\">"
   ]
  },
  {
   "cell_type": "code",
   "execution_count": 164,
   "metadata": {
    "collapsed": false
   },
   "outputs": [],
   "source": [
    "# 相関係数を求める\n",
    "def find_corr_x_y(x,y):\n",
    "    n = lend(x)\n",
    "    prod = []\n",
    "    for xi, yi, in zip(x,y):\n",
    "        prod.append(xi*yi)\n",
    "    sum_prod_x_y = sum(prod)\n",
    "    sum_x = sum(x)\n",
    "    sum_y = sum(y)\n",
    "    squared_sum_x = sum_x**2\n",
    "    squared_sum_y = sum_y**2\n",
    "    x_squared = []\n",
    "    for xi in x:\n",
    "        x_square.append(xi**2)\n",
    "    x_square_sum = sum(x_square)\n",
    "    y_square = []\n",
    "    for yi in y:\n",
    "        y_square.append(yi**2)\n",
    "    y_square_sum = sum(y_square)\n",
    "    \n",
    "    numerator = n*sum_prod_x_y - sum_x * sum_y\n",
    "    demominator_term1 = n*x_square_sum - squared_sum_x\n",
    "    demominator_term2 = n*y_square_sum - squared_sum_y\n",
    "    demominator = (denominator_term1*denominator_term2)**0.5\n",
    "    correlation = numerator/demominator\n",
    "    \n",
    "    return correlation"
   ]
  },
  {
   "cell_type": "code",
   "execution_count": null,
   "metadata": {
    "collapsed": true
   },
   "outputs": [],
   "source": []
  }
 ],
 "metadata": {
  "anaconda-cloud": {},
  "kernelspec": {
   "display_name": "Python [Root]",
   "language": "python",
   "name": "Python [Root]"
  },
  "language_info": {
   "codemirror_mode": {
    "name": "ipython",
    "version": 3
   },
   "file_extension": ".py",
   "mimetype": "text/x-python",
   "name": "python",
   "nbconvert_exporter": "python",
   "pygments_lexer": "ipython3",
   "version": "3.5.2"
  }
 },
 "nbformat": 4,
 "nbformat_minor": 0
}
